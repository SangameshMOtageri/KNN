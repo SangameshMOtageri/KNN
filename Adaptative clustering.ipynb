{
 "cells": [
  {
   "cell_type": "code",
   "execution_count": 168,
   "metadata": {},
   "outputs": [],
   "source": [
    "import numpy as np\n",
    "from csv import reader\n",
    "from random import random"
   ]
  },
  {
   "cell_type": "code",
   "execution_count": 188,
   "metadata": {},
   "outputs": [],
   "source": [
    "k = 3\n",
    "f = 4\n",
    "datax, datay = [],[]\n",
    "classes = {'Iris-virginica':0, 'Iris-setosa':1, 'Iris-versicolor':2}\n",
    "#['7.2', '3.2', '6', '1.8', 'Iris-virginica'],\n",
    "#['5.1', '3.5', '1.4', '0.3', 'Iris-setosa'],\n",
    "#['6.2', '2.9', '4.3', '1.3', 'Iris-versicolor']"
   ]
  },
  {
   "cell_type": "code",
   "execution_count": 189,
   "metadata": {},
   "outputs": [],
   "source": [
    "with open('flower_data.csv', 'r') as file:\n",
    "    readlines = reader(file)\n",
    "    for i_data in readlines:\n",
    "        datax.append(list(map(float, i_data[0:f])))\n",
    "        datay.append(classes[i_data[f]])"
   ]
  },
  {
   "cell_type": "code",
   "execution_count": 190,
   "metadata": {},
   "outputs": [
    {
     "data": {
      "text/plain": [
       "150"
      ]
     },
     "execution_count": 190,
     "metadata": {},
     "output_type": "execute_result"
    }
   ],
   "source": [
    "l = len(datax)\n",
    "l"
   ]
  },
  {
   "cell_type": "code",
   "execution_count": 191,
   "metadata": {},
   "outputs": [],
   "source": [
    "p = np.random.permutation(l)\n",
    "datax = np.array(datax)[p]\n",
    "datay = np.array(datay)[p]"
   ]
  },
  {
   "cell_type": "code",
   "execution_count": 192,
   "metadata": {},
   "outputs": [],
   "source": [
    "#Adaptative approach. Making prediction while training and getting better.\n",
    "def learnModel(x, y, mean, k, samplecount, i):\n",
    "    calc_mean = np.zeros(k)\n",
    "    for i in range(k):\n",
    "        calc_mean[i] = np.sum((mean[i] - x)**2)\n",
    "    min_i = np.sort(calc_mean)[0]\n",
    "    pred_class = np.where(calc_mean == min_i)[0][0]\n",
    "    mean[y] = (mean[y]*samplecount[y] + x)/(samplecount[y] + 1)\n",
    "    #print(pred_class, y)\n",
    "    \n",
    "    return mean, samplecount"
   ]
  },
  {
   "cell_type": "code",
   "execution_count": 193,
   "metadata": {},
   "outputs": [],
   "source": [
    "#For validation of the classifier\n",
    "def predict(x, mean):\n",
    "    pred = np.zeros(k)\n",
    "    for i in range(k):\n",
    "        pred[i] = np.sum((mean[i] - x)**2)\n",
    "    #print(pred)\n",
    "    return np.argmin(pred)"
   ]
  },
  {
   "cell_type": "code",
   "execution_count": 194,
   "metadata": {},
   "outputs": [],
   "source": [
    "#Before training starts\n",
    "mean = np.zeros((k, f))\n",
    "samplecount = np.ones(k)\n",
    "train_percent = 0.8"
   ]
  },
  {
   "cell_type": "code",
   "execution_count": 195,
   "metadata": {},
   "outputs": [],
   "source": [
    "#training the classifier\n",
    "for i in range(int(l*train_percent)):\n",
    "    mean, samplecount = learnModel(datax[i], datay[i], mean, k, samplecount, i)"
   ]
  },
  {
   "cell_type": "code",
   "execution_count": 196,
   "metadata": {},
   "outputs": [
    {
     "name": "stdout",
     "output_type": "stream",
     "text": [
      "1.0\n"
     ]
    }
   ],
   "source": [
    "accuracy = 0\n",
    "count = 0\n",
    "for i in range(int(l*(1-train_percent))):\n",
    "    if(predict(datax[i], mean) == datay[i]):\n",
    "        count = count+1\n",
    "        accuracy=accuracy+1\n",
    "print(accuracy/count)"
   ]
  },
  {
   "cell_type": "code",
   "execution_count": null,
   "metadata": {},
   "outputs": [],
   "source": []
  }
 ],
 "metadata": {
  "kernelspec": {
   "display_name": "Python 3",
   "language": "python",
   "name": "python3"
  },
  "language_info": {
   "codemirror_mode": {
    "name": "ipython",
    "version": 3
   },
   "file_extension": ".py",
   "mimetype": "text/x-python",
   "name": "python",
   "nbconvert_exporter": "python",
   "pygments_lexer": "ipython3",
   "version": "3.5.2"
  }
 },
 "nbformat": 4,
 "nbformat_minor": 2
}
